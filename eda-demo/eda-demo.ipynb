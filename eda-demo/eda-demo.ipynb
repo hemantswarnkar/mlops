{
 "cells": [
  {
   "cell_type": "markdown",
   "id": "89b36f24",
   "metadata": {},
   "source": [
    "pip install pandas numpy\n",
    "pip freeze > requirements.txt"
   ]
  },
  {
   "cell_type": "code",
   "execution_count": null,
   "id": "5cfa9124",
   "metadata": {},
   "outputs": [
    {
     "ename": "",
     "evalue": "",
     "output_type": "error",
     "traceback": [
      "\u001b[1;31mThe kernel failed to start as the Python Environment 'Python 3.13.3' is no longer available. Consider selecting another kernel or refreshing the list of Python Environments."
     ]
    }
   ],
   "source": [
    "import pandas as pd\n",
    "import numpy as np"
   ]
  },
  {
   "cell_type": "code",
   "execution_count": null,
   "id": "5ee79350",
   "metadata": {},
   "outputs": [],
   "source": [
    "df = pd.read_csv('./data/flights.csv')"
   ]
  },
  {
   "cell_type": "code",
   "execution_count": null,
   "id": "e1986269",
   "metadata": {},
   "outputs": [],
   "source": [
    "print(df.shape)\n",
    "print(df.head())"
   ]
  },
  {
   "cell_type": "code",
   "execution_count": null,
   "id": "e45fab65",
   "metadata": {},
   "outputs": [],
   "source": [
    "# average flight duration\n",
    "avg_duration = df[\"Duration\"].mean()\n",
    "print(avg_duration)"
   ]
  },
  {
   "cell_type": "code",
   "execution_count": null,
   "id": "87c23c41",
   "metadata": {},
   "outputs": [],
   "source": [
    "# top 3 longest flights\n",
    "top_longest = df.nlargest(3, 'Duration')\n",
    "print(top_longest)"
   ]
  },
  {
   "cell_type": "code",
   "execution_count": null,
   "id": "7cb4e47c",
   "metadata": {},
   "outputs": [],
   "source": [
    "np.std(df[\"DelayMinutes\"])"
   ]
  },
  {
   "cell_type": "code",
   "execution_count": null,
   "id": "01dbba3b",
   "metadata": {},
   "outputs": [],
   "source": [
    "np.sum(df[\"Distance\"])"
   ]
  },
  {
   "cell_type": "code",
   "execution_count": null,
   "id": "5071be31",
   "metadata": {},
   "outputs": [],
   "source": []
  }
 ],
 "metadata": {
  "kernelspec": {
   "display_name": ".venv",
   "language": "python",
   "name": "python3"
  },
  "language_info": {
   "codemirror_mode": {
    "name": "ipython",
    "version": 3
   },
   "file_extension": ".py",
   "mimetype": "text/x-python",
   "name": "python",
   "nbconvert_exporter": "python",
   "pygments_lexer": "ipython3",
   "version": "3.13.3"
  }
 },
 "nbformat": 4,
 "nbformat_minor": 5
}
