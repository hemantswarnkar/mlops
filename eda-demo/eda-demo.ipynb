{
 "cells": [
  {
   "cell_type": "markdown",
   "id": "89b36f24",
   "metadata": {},
   "source": [
    "pip install pandas numpy\n",
    "pip freeze > requirements.txt"
   ]
  },
  {
   "cell_type": "code",
   "execution_count": 5,
   "id": "5cfa9124",
   "metadata": {},
   "outputs": [],
   "source": [
    "import pandas as pd\n",
    "import numpy as np"
   ]
  },
  {
   "cell_type": "code",
   "execution_count": 6,
   "id": "5ee79350",
   "metadata": {},
   "outputs": [],
   "source": [
    "df = pd.read_csv('./data/flights.csv')"
   ]
  },
  {
   "cell_type": "code",
   "execution_count": 7,
   "id": "e1986269",
   "metadata": {},
   "outputs": [
    {
     "name": "stdout",
     "output_type": "stream",
     "text": [
      "(10, 7)\n",
      "   FlightNumber Origin Destination  Duration  Distance  DelayMinutes  \\\n",
      "0          1001    LHR         DXB       420      5500            15   \n",
      "1          1002    JFK         LHR       415      5560             0   \n",
      "2          1003    LAX         SFO        90       540             5   \n",
      "3          1004    LHR         JFK       430      5530            60   \n",
      "4          1005    DEL         LHR       530      6710             0   \n",
      "\n",
      "   Cancelled  \n",
      "0          0  \n",
      "1          0  \n",
      "2          0  \n",
      "3          0  \n",
      "4          0  \n"
     ]
    }
   ],
   "source": [
    "print(df.shape)\n",
    "print(df.head())"
   ]
  },
  {
   "cell_type": "code",
   "execution_count": 8,
   "id": "e45fab65",
   "metadata": {},
   "outputs": [
    {
     "name": "stdout",
     "output_type": "stream",
     "text": [
      "386.5\n"
     ]
    }
   ],
   "source": [
    "# average flight duration\n",
    "avg_duration = df[\"Duration\"].mean()\n",
    "print(avg_duration)"
   ]
  },
  {
   "cell_type": "code",
   "execution_count": 9,
   "id": "87c23c41",
   "metadata": {},
   "outputs": [
    {
     "name": "stdout",
     "output_type": "stream",
     "text": [
      "   FlightNumber Origin Destination  Duration  Distance  DelayMinutes  \\\n",
      "4          1005    DEL         LHR       530      6710             0   \n",
      "9          1010    LHR         BOM       490      7200            10   \n",
      "5          1006    SYD         SIN       480      6300           120   \n",
      "\n",
      "   Cancelled  \n",
      "4          0  \n",
      "9          0  \n",
      "5          0  \n"
     ]
    }
   ],
   "source": [
    "# top 3 longest flights\n",
    "top_longest = df.nlargest(3, 'Duration')\n",
    "print(top_longest)"
   ]
  },
  {
   "cell_type": "code",
   "execution_count": 11,
   "id": "7cb4e47c",
   "metadata": {},
   "outputs": [
    {
     "data": {
      "text/plain": [
       "np.float64(36.72873534441391)"
      ]
     },
     "execution_count": 11,
     "metadata": {},
     "output_type": "execute_result"
    }
   ],
   "source": [
    "np.std(df[\"DelayMinutes\"])"
   ]
  },
  {
   "cell_type": "code",
   "execution_count": 12,
   "id": "01dbba3b",
   "metadata": {},
   "outputs": [
    {
     "data": {
      "text/plain": [
       "np.int64(50140)"
      ]
     },
     "execution_count": 12,
     "metadata": {},
     "output_type": "execute_result"
    }
   ],
   "source": [
    "np.sum(df[\"Distance\"])"
   ]
  },
  {
   "cell_type": "code",
   "execution_count": null,
   "id": "5071be31",
   "metadata": {},
   "outputs": [],
   "source": []
  }
 ],
 "metadata": {
  "kernelspec": {
   "display_name": ".venv",
   "language": "python",
   "name": "python3"
  },
  "language_info": {
   "codemirror_mode": {
    "name": "ipython",
    "version": 3
   },
   "file_extension": ".py",
   "mimetype": "text/x-python",
   "name": "python",
   "nbconvert_exporter": "python",
   "pygments_lexer": "ipython3",
   "version": "3.13.3"
  }
 },
 "nbformat": 4,
 "nbformat_minor": 5
}
